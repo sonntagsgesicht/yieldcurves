{
 "cells": [
  {
   "cell_type": "code",
   "execution_count": 1,
   "metadata": {
    "ExecuteTime": {
     "end_time": "2024-06-29T10:24:41.109727Z",
     "start_time": "2024-06-29T10:24:40.974661Z"
    }
   },
   "outputs": [],
   "source": [
    "%load_ext autoreload\n",
    "%autoreload 2"
   ]
  },
  {
   "cell_type": "code",
   "execution_count": 56,
   "metadata": {
    "ExecuteTime": {
     "end_time": "2024-06-29T15:53:17.831219Z",
     "start_time": "2024-06-29T15:53:17.778090Z"
    }
   },
   "outputs": [],
   "source": [
    "from timeit import timeit\n",
    "from datetime import date, timedelta\n",
    "import businessdate as bd\n",
    "from businessdate import BusinessDate, BusinessRange\n",
    "from businessdate.daycount import *\n",
    "import dcf\n",
    "from tabulate import tabulate\n",
    "from yieldcurves.parametric import NelsonSiegelSvensson, \\\n",
    "    NelsonSiegelSvenssonShortRate, download_ecb\n",
    "from yieldcurves.tools import ascii_plot, lin, plot, AlgebraCurve\n",
    "from yieldcurves import *\n",
    "from yieldcurves.datecurve import DateCurve, DateCurveDictLike\n",
    "from yieldcurves.interpolation import linear, constant\n",
    "from yieldcurves.compounding import *\n",
    "from yieldcurves.yieldcurves import Df, YieldCurve"
   ]
  },
  {
   "cell_type": "markdown",
   "source": [
    "TODO:\n",
    "* test compounding [OK]\n",
    "* test interpolation [OK]\n",
    "* test parametric [OK]\n",
    "* test curves [OK]\n",
    "* test datecurve [ ]"
   ],
   "metadata": {
    "collapsed": false
   }
  },
  {
   "cell_type": "code",
   "execution_count": null,
   "outputs": [],
   "source": [
    "from yieldcurves.tools import inverse\n",
    "inverse((-5.4)**3, lambda x: x**3)"
   ],
   "metadata": {
    "collapsed": false
   }
  },
  {
   "cell_type": "code",
   "execution_count": null,
   "outputs": [],
   "source": [
    "\n",
    "today = bd.BusinessDate()\n",
    "curve = AlgebraCurve()\n",
    "a = DateCurve(curve, origin=today, yf=get_act_act)\n",
    "d = today + '1y2m'\n",
    "f = a.year_fraction(d)\n",
    "p = a.inverse(f)\n",
    "g = a.year_fraction(p)\n",
    "today, d, f, p, g"
   ],
   "metadata": {
    "collapsed": false
   }
  },
  {
   "cell_type": "code",
   "execution_count": null,
   "outputs": [],
   "source": [
    "d, a = (BusinessDate(20241103), DateCurve(AlgebraCurve(), origin=BusinessDate(20240630), yf=get_act_360))\n",
    "\n",
    "f = a.year_fraction(d)\n",
    "p = a.inverse(f)\n",
    "g = a.year_fraction(p)\n",
    "\n",
    "d == p, d, f, p, g"
   ],
   "metadata": {
    "collapsed": false
   }
  },
  {
   "cell_type": "code",
   "execution_count": null,
   "outputs": [],
   "source": [
    "d, a = (1.9, DateCurve(AlgebraCurve(), origin=0.25))\n",
    "\n",
    "def yf(x):\n",
    "    return a.year_fraction(a.origin + x / a.DAYS_IN_YEAR)\n",
    "f = a.year_fraction(d)\n",
    "i = inverse(f, yf) / a.DAYS_IN_YEAR\n",
    "d, f, i, a.origin + i"
   ],
   "metadata": {
    "collapsed": false
   }
  },
  {
   "cell_type": "code",
   "execution_count": 21,
   "outputs": [
    {
     "data": {
      "text/plain": "(BusinessDate(20240715),\n BusinessDate(20240714),\n 0.041666666666666664,\n 0.03888888888888889)"
     },
     "execution_count": 21,
     "metadata": {},
     "output_type": "execute_result"
    }
   ],
   "source": [
    "d, a = (BusinessDate(20241103), DateCurve(AlgebraCurve(), origin=BusinessDate(20240630), yf=get_act_360))\n",
    "d, a = (BusinessDate(20240715), DateCurve(AlgebraCurve(), origin=BusinessDate(20240630), yf=get_30_360))\n",
    "d, a._inverse(a.year_fraction(d)), a.year_fraction(d), a.year_fraction(a._inverse(a.year_fraction(d))),"
   ],
   "metadata": {
    "collapsed": false,
    "ExecuteTime": {
     "end_time": "2024-06-29T10:59:37.161422Z",
     "start_time": "2024-06-29T10:59:36.989423Z"
    }
   }
  },
  {
   "cell_type": "code",
   "execution_count": 59,
   "outputs": [
    {
     "data": {
      "text/plain": "(5.0,\n 6.333333333333334,\n DateCurveDictLike(AlgebraCurve(linear([0.25, 0.5, 0.75, 1.0], [7.0, 5.0, 3.0, 0.0])), origin=BusinessDate(20240630), yf=get_30_360))"
     },
     "execution_count": 59,
     "metadata": {},
     "output_type": "execute_result"
    }
   ],
   "source": [
    "c = linear([0, 1], [10, 0])\n",
    "DateCurveDictLike.BASEDATE = BusinessDate()\n",
    "d = DateCurveDictLike(AlgebraCurve(c), origin=20240630, yf=get_30_360)\n",
    "d[d.origin + '3m'] = 7\n",
    "d[d.origin + '6m'] = 5\n",
    "d[d.origin + '9m'] = 3\n",
    "del d[d.origin]\n",
    "d[d.origin + '6m'], d(d.origin + '4m'), d"
   ],
   "metadata": {
    "collapsed": false,
    "ExecuteTime": {
     "end_time": "2024-06-29T16:18:13.826874Z",
     "start_time": "2024-06-29T16:18:12.653926Z"
    }
   }
  },
  {
   "cell_type": "code",
   "execution_count": null,
   "outputs": [],
   "source": [
    "def yf(x):\n",
    "    return a.year_fraction(a.origin + timedelta(x))\n",
    "\n",
    "f = a.year_fraction(d)\n",
    "i = timedelta(inverse(f, yf, step=256))\n",
    "\n",
    "d, f, i, a.origin + i, a.inverse(f)"
   ],
   "metadata": {
    "collapsed": false
   }
  },
  {
   "cell_type": "code",
   "execution_count": 5,
   "outputs": [
    {
     "name": "stdout",
     "output_type": "stream",
     "text": [
      "0.2 0.35026689496589825 0.5492002939572558 0.17277531599393114 0.2278287680237554 0.2324078599922359 0.0035099019878543913\n",
      "1.2 0.32150643499335274 0.5084104160196148 0.8711775870178826 0.9162665100302547 0.5145494320313446 0.0028674349887296557\n",
      "2.2 0.3941192280035466 0.2664667289936915 0.2918242039741017 0.17777071299497038 0.10528218001127243 0.004667413013521582\n",
      "5.0 0.38718873099423945 0.19987958000274375 0.16502182197291404 0.15306926902849227 0.11834128899499774 0.001236570009496063\n",
      "10.0 0.2696323619456962 0.2470335079706274 0.18295983999269083 0.16298444097628817 0.1623467500321567 0.0012398500111885369\n",
      "50 0.6260541690280661 0.2053799689747393 0.18581384100252762 0.23394698300398886 0.25102926103863865 0.0012737670331262052\n",
      "100 0.967208246991504 0.2153176799765788 0.22920822497690096 0.36062419903464615 0.4107032119645737 0.0012819480034522712\n"
     ]
    }
   ],
   "source": [
    "for yf  in (.2, 1.2, 2.2, 5., 10., 50, 100):\n",
    "    aa = timeit(lambda: a._inverse(yf), number=100)\n",
    "    # b = timeit(lambda: a._inverse1(yf, step=1), number=100)\n",
    "    bb = timeit(lambda: a._inverse1(yf), number=100)\n",
    "    bbb = timeit(lambda: a._inverse1(yf, step=4096), number=100)\n",
    "    bbbb = timeit(lambda: a._inverse1(yf, step=1024), number=100)\n",
    "    c = timeit(lambda: a._inverse2(yf), number=100)\n",
    "    d = timeit(lambda: a.inverse(yf), number=100)\n",
    "    print(yf, aa, bb, bbb, bbbb, c, d)"
   ],
   "metadata": {
    "collapsed": false,
    "ExecuteTime": {
     "end_time": "2024-06-29T10:25:51.081336Z",
     "start_time": "2024-06-29T10:25:39.354819Z"
    }
   }
  },
  {
   "cell_type": "code",
   "execution_count": null,
   "outputs": [],
   "source": [
    "\n",
    "\n",
    "f = a.year_fraction(d)\n",
    "p = a.inverse(f)\n",
    "g = a.year_fraction(p)\n",
    "\n",
    "d == p, d, f, p, g"
   ],
   "metadata": {
    "collapsed": false
   }
  },
  {
   "cell_type": "code",
   "execution_count": null,
   "outputs": [],
   "source": [
    "X = lin(0.000001, 20.05, 0.05)\n",
    "\n",
    "v = AlgebraCurve(nss)\n",
    "f = YieldCurve(v)\n",
    "\n",
    "g = YieldCurve.from_marginal_probs(f.marginal)\n",
    "h = YieldCurve.from_marginal_pd(f.marginal_pd)\n",
    "\n",
    "plot(X, original=f-v, marginal=g-v)#, m_pd=h-v)"
   ],
   "metadata": {
    "collapsed": false
   }
  },
  {
   "cell_type": "code",
   "execution_count": null,
   "outputs": [],
   "source": [
    "YieldCurve.from_cash_rates(YieldCurve(0.01).cash)(0.25)"
   ],
   "metadata": {
    "collapsed": false
   }
  },
  {
   "cell_type": "code",
   "execution_count": null,
   "outputs": [],
   "source": [
    "\n",
    "X = lin(0.0001, 20.05, 0.01)\n",
    "c = AlgebraCurve(f.cash)\n",
    "plot(X, spot=YieldCurve.from_cash_rates(f.cash)-v, cash=YieldCurve.from_cash_rates(c).cash-c)"
   ],
   "metadata": {
    "collapsed": false
   }
  },
  {
   "cell_type": "code",
   "execution_count": null,
   "outputs": [],
   "source": [
    "_params = {\n",
    "    'beta0': 1,\n",
    "    'beta1': 2,\n",
    "    'beta2': 3,\n",
    "    'beta3': 6,\n",
    "    'tau1': 1,\n",
    "    'tau2': 10,\n",
    "}\n",
    "nss = NelsonSiegelSvensson(**_params)\n",
    "l_nss = linear([1, 2, 3, 5, 7, 10, 15], nss)\n",
    "l_nss"
   ],
   "metadata": {
    "collapsed": false
   }
  },
  {
   "cell_type": "markdown",
   "source": [
    "# Plot"
   ],
   "metadata": {
    "collapsed": false
   }
  },
  {
   "cell_type": "code",
   "execution_count": null,
   "outputs": [],
   "source": [
    "X = lin(0.05, 20.05, 0.05)\n",
    "a = AlgebraCurve(0.02)\n",
    "a = AlgebraCurve(nss)\n",
    "b = YieldCurve(a, frequency=4, cash_frequency=4, swap_frequency=2)\n",
    "plot(X, curve=a, yield_curve=b)"
   ],
   "metadata": {
    "collapsed": false
   }
  },
  {
   "cell_type": "code",
   "execution_count": null,
   "outputs": [],
   "source": [
    "c = YieldCurve.from_prices(b.price)\n",
    "d = YieldCurve.from_short_rates(b.short)\n",
    "plot(X, spot=a-b, price=a-c, short=a-d)"
   ],
   "metadata": {
    "collapsed": false
   }
  },
  {
   "cell_type": "code",
   "execution_count": null,
   "outputs": [],
   "source": [
    "e = YieldCurve.from_df(b.df)\n",
    "f = YieldCurve.from_zero_rates(b.zero, compounding_frequency=b.frequency)\n",
    "g = YieldCurve.from_cash_rates(b.cash, compounding_frequency=b.cash_frequency)\n",
    "h = YieldCurve.from_swap_rates(b.swap, compounding_frequency=b.swap_frequency)\n",
    "plot(X, df=a-e, zero=a-f, cash=a-g, swap=a-h)"
   ],
   "metadata": {
    "collapsed": false
   }
  },
  {
   "cell_type": "code",
   "execution_count": null,
   "outputs": [],
   "source": [
    "i = YieldCurve.from_probs(b.prob)\n",
    "j = YieldCurve.from_intensities(b.intensity)\n",
    "k = YieldCurve.from_hazard_rates(b.hz)\n",
    "l = YieldCurve.from_pd(b.pd)\n",
    "plot(X, prob=a-i, intensity=a-j, hz=a-k, pd=a-l)"
   ],
   "metadata": {
    "collapsed": false
   }
  },
  {
   "cell_type": "code",
   "execution_count": null,
   "outputs": [],
   "source": [
    "m = YieldCurve.from_marginal_probs(b.marginal)\n",
    "n = YieldCurve.from_marginal_pd(b.marginal_pd)\n",
    "plot(X, marginal=a-m, marginal_pd=a-m)"
   ],
   "metadata": {
    "collapsed": false
   }
  },
  {
   "cell_type": "code",
   "execution_count": null,
   "outputs": [],
   "source": [],
   "metadata": {
    "collapsed": false
   }
  },
  {
   "cell_type": "code",
   "execution_count": null,
   "outputs": [],
   "source": [
    "params = {\n",
    "    'beta0': 1.0138959988,\n",
    "    'beta1': 1.836312606,\n",
    "    'beta2': 2.9874138836,\n",
    "    'beta3': 4.8105550065,\n",
    "    'tau1': 0.7389058665,\n",
    "    'tau2': 12.0362372437\n",
    "}"
   ],
   "metadata": {
    "collapsed": false
   }
  },
  {
   "cell_type": "code",
   "execution_count": null,
   "outputs": [],
   "source": [
    "# float\n",
    "today = 0\n",
    "times = 1, 5, 10\n",
    "dates = [today + t for t in times]\n",
    "values = [0.01, 0.03, 0.02]\n",
    "times = DateCurve.dyf(today, dates)\n",
    "\n",
    "l = linear(times, values)\n",
    "c = YieldCurve.from_spot_rates(l)\n",
    "d = DateCurve(c, origin=today)\n",
    "\n",
    "Df(d)(9), d.df(9)"
   ],
   "metadata": {
    "collapsed": false
   }
  },
  {
   "cell_type": "code",
   "execution_count": null,
   "outputs": [],
   "source": [
    "# BusinessDate\n",
    "today = bd.BusinessDate()\n",
    "times = \"1y\", \"5y\", \"10y\"\n",
    "dates = [today + t for t in times]\n",
    "values = [0.01, 0.03, 0.02]\n",
    "times = DateCurve.dyf(today, dates)\n",
    "\n",
    "l = linear(times, values)\n",
    "c = YieldCurve.from_spot_rates(l)\n",
    "d = DateCurve(c, origin=today)\n",
    "\n",
    "#d.domain\n",
    "Df(d)(today + '9y'), d.df(today + '9y')"
   ],
   "metadata": {
    "collapsed": false
   }
  },
  {
   "cell_type": "code",
   "execution_count": null,
   "outputs": [],
   "source": [
    "DateCurve.basedate = today# + '3m'\n",
    "dd = DateCurve.from_interpolation(dates, values, origin=today, interpolation='constant', curve_type='from_spot_rates')\n",
    "tuple(dd)"
   ],
   "metadata": {
    "collapsed": false
   }
  },
  {
   "cell_type": "code",
   "execution_count": null,
   "outputs": [],
   "source": [
    "dd.inverse(-2.5), today - '2y6m'"
   ],
   "metadata": {
    "collapsed": false
   }
  },
  {
   "cell_type": "code",
   "execution_count": null,
   "outputs": [],
   "source": [
    "# datetime.date\n",
    "today = bd.BusinessDate()\n",
    "times = \"1y\", \"5y\", \"10y\"\n",
    "dates = [(today + t).to_date() for t in times]\n",
    "values = [0.01, 0.03, 0.02]\n",
    "times = DateCurve.dyf(today.to_date(), dates)\n",
    "\n",
    "l = linear(times, values)\n",
    "c = YieldCurve.from_spot_rates(l)\n",
    "d = DateCurve(c, origin=today.to_date())\n",
    "\n",
    "#d.domain\n",
    "t9y = (today + '9y').to_date()\n",
    "Df(d)(t9y), d.df(t9y)"
   ],
   "metadata": {
    "collapsed": false
   }
  },
  {
   "cell_type": "code",
   "execution_count": null,
   "outputs": [],
   "source": [
    "df = Df(d)\n",
    "# df.curve.year_fraction(today + timedelta(days=365*3))\n",
    "# df.curve.df(today)\n",
    "df(today + timedelta(days=365*10))"
   ],
   "metadata": {
    "collapsed": false
   }
  },
  {
   "cell_type": "code",
   "execution_count": null,
   "outputs": [],
   "source": [
    "#d = DateCurve(c, origin=0)\n",
    "d.curve[d.year_fraction(today + '1y')]"
   ],
   "metadata": {
    "collapsed": false
   }
  },
  {
   "cell_type": "code",
   "execution_count": null,
   "outputs": [],
   "source": [
    "curve=constant([0.0, 0.2518822724161533, 0.5037645448323066, 0.75564681724846, 0.999315537303217, 1.2511978097193703, 1.5030800821355237, 1.754962354551677, 1.998631074606434, 2.2505133470225873, 2.5023956194387407, 2.754277891854894, 2.9979466119096507, 3.249828884325804, 3.5017111567419574, 3.753593429158111, 4.0, 4.251882272416153, 4.503764544832307, 4.75564681724846, 4.999315537303217, 5.25119780971937, 5.503080082135524, 5.754962354551677, 5.9986310746064335, 6.250513347022587, 6.50239561943874, 6.754277891854894, 6.997946611909651, 7.2498288843258045, 7.501711156741957, 7.753593429158111, 8.0, 8.251882272416154, 8.503764544832306, 8.75564681724846, 8.999315537303216, 9.25119780971937, 9.503080082135524, 98.99520876112251], [0.02, 0.018, 0.016, 0.015, 0.017, 0.019, 0.02, 0.018, 0.016, 0.015, 0.017, 0.019, 0.02, 0.018, 0.016, 0.015, 0.017, 0.019, 0.02, 0.018, 0.016, 0.015, 0.017, 0.019, 0.02, 0.018, 0.016, 0.015, 0.017, 0.019, 0.02, 0.018, 0.016, 0.015, 0.017, 0.019, 0.02, 0.018, 0.016, 0.015])\n",
    "\n",
    "dcf_curve = dcf.ShortRateCurve(curve.x_list, curve.y_list, forward_tenor=0.25, origin=0)\n",
    "yc_curve = ShortRate(curve, cash_frequency=None, frequency=None)\n",
    "dcf_curve._TIME_SHIFT = yc_curve.eps = eps = 1 /365"
   ],
   "metadata": {
    "collapsed": false
   }
  },
  {
   "cell_type": "code",
   "execution_count": null,
   "outputs": [],
   "source": [
    "yc_curve.zero(0.0027397260273972603)"
   ],
   "metadata": {
    "collapsed": false
   }
  },
  {
   "cell_type": "code",
   "execution_count": null,
   "outputs": [],
   "source": [
    "a = dcf_curve.get_zero_rate(0.0027397260273972603)\n",
    "b = yc_curve.zero(0.0027397260273972603)\n",
    "a, b"
   ],
   "metadata": {
    "collapsed": false
   }
  },
  {
   "cell_type": "code",
   "execution_count": null,
   "outputs": [],
   "source": [
    "a = dcf_curve.get_short_rate(0.0027397260273972603)\n",
    "b = yc_curve.curve(0.0027397260273972603)\n",
    "a, b"
   ],
   "metadata": {
    "collapsed": false
   }
  },
  {
   "cell_type": "code",
   "execution_count": null,
   "outputs": [],
   "source": [
    "\n",
    "self, start, stop = dcf_curve, 0.0, 0.0027378507871321013\n",
    "print(f\"{start=} {stop=}\")\n",
    "ir = self._get_compounding_rate(start, stop)\n",
    "t = self.day_count(start, stop)\n",
    "df = self._get_compounding_factor(start, stop)\n",
    "print(f\"{ir=} {t=} {df=}\")\n",
    "print(f\"{self._get_compounding_rate(0, stop)=} {self._get_compounding_rate(0, start)=}\")\n",
    "print(f\"{self._get_compounding_factor(0, stop)=} {self._get_compounding_factor(0, start)=}\")\n",
    "\n",
    "ir = yc_curve.zero(start, stop)\n",
    "t = stop - start\n",
    "df = yc_curve.df(start, stop)\n",
    "print(f\"{ir=} {t=} {df=}\")\n",
    "\n",
    "print(f\"{yc_curve.curve(stop)=} {yc_curve.curve(start)=}\")\n",
    "print(f\"{yc_curve.df(stop)=} {yc_curve.df(start)=}\")\n",
    "\n",
    "dcf_curve.get_short_rate(0.0027378507871321013), yc_curve.short(0.0027378507871321013)\n"
   ],
   "metadata": {
    "collapsed": false
   }
  },
  {
   "cell_type": "code",
   "execution_count": null,
   "outputs": [],
   "source": [
    "d = dcf.ZeroRateCurve(l.x_list, l.y_list, forward_tenor=0.25)\n",
    "start, stop = x, y\n",
    "d.get_discount_factor(x, y), d.get_cash_rate(x, y), d._get_compounding_factor(\n",
    "    start, stop)"
   ],
   "metadata": {
    "collapsed": false
   }
  },
  {
   "cell_type": "code",
   "execution_count": null,
   "outputs": [],
   "source": [
    "domain = [1, 2, 3, 5, 7, 10, 15, 20, 30, 50]\n",
    "l = linear([1, 2, 3, 5, 7, 50], [0.01, 0.05, 0.02, 0.03])\n",
    "print(repr(l))\n",
    "str(l), repr(l), l(2.5), l.x_list"
   ],
   "metadata": {
    "collapsed": false
   }
  },
  {
   "cell_type": "code",
   "execution_count": null,
   "outputs": [],
   "source": [
    "# c = NelsonSiegelSvensson.download(-1)\n",
    "c = NelsonSiegelSvensson(beta0=1.9137, beta1=1.97448, beta2=-28.16468,\n",
    "                         beta3=27.22348, tau1=4.6538, tau2=5.29223)\n",
    "c"
   ],
   "metadata": {
    "collapsed": false
   }
  },
  {
   "cell_type": "code",
   "execution_count": null,
   "outputs": [],
   "source": [
    "NelsonSiegelSvenssonShortRate(**c.params)"
   ],
   "metadata": {
    "collapsed": false
   }
  },
  {
   "cell_type": "code",
   "execution_count": null,
   "outputs": [],
   "source": [
    "a = AssetPriceYield(.03, spot=40)\n",
    "a, a.price_yield(1, 2), a.price(10)"
   ],
   "metadata": {
    "collapsed": false
   }
  },
  {
   "cell_type": "code",
   "execution_count": null,
   "outputs": [],
   "source": [
    "z = ZeroRate(l)\n",
    "df = Df(z)\n",
    "z.par(5, 10)"
   ],
   "metadata": {
    "collapsed": false
   }
  },
  {
   "cell_type": "code",
   "execution_count": null,
   "outputs": [],
   "source": [
    "c = Const(0.01)\n",
    "z = ZeroRate(c, cash_frequency=2)\n",
    "df = Df(z)"
   ],
   "metadata": {
    "collapsed": false
   }
  },
  {
   "cell_type": "code",
   "execution_count": null,
   "outputs": [],
   "source": [
    "T = 3\n",
    "dates = list(x / z.cash_frequency for x in range(T * z.cash_frequency)) + [T]\n",
    "sum(df(x) / z.cash_frequency for x in dates[1:])"
   ],
   "metadata": {
    "collapsed": false
   }
  },
  {
   "cell_type": "code",
   "execution_count": null,
   "outputs": [],
   "source": [
    "swap_annuity(z, dates)"
   ],
   "metadata": {
    "collapsed": false
   }
  },
  {
   "cell_type": "code",
   "execution_count": null,
   "outputs": [],
   "source": [
    "swap_annuity(z, T, cash_frequency=z.cash_frequency)"
   ],
   "metadata": {
    "collapsed": false
   }
  },
  {
   "cell_type": "code",
   "execution_count": null,
   "outputs": [],
   "source": [
    "annuity = Annuity(z)\n",
    "annuity, annuity(T)"
   ],
   "metadata": {
    "collapsed": false
   }
  },
  {
   "cell_type": "code",
   "execution_count": null,
   "outputs": [],
   "source": [
    "swap_par_rate(z, T, cash_frequency=z.cash_frequency)"
   ],
   "metadata": {
    "collapsed": false
   }
  },
  {
   "cell_type": "code",
   "execution_count": null,
   "outputs": [],
   "source": [
    "par = Par(z)\n",
    "par, par(T), par(T, 15), z.par(T), z.par(T, 15), z.par"
   ],
   "metadata": {
    "collapsed": false
   }
  },
  {
   "cell_type": "code",
   "execution_count": null,
   "outputs": [],
   "source": [
    "Cash(z), Cash(z)(T), z.cash(T), z.cash"
   ],
   "metadata": {
    "collapsed": false
   }
  },
  {
   "cell_type": "code",
   "execution_count": null,
   "outputs": [],
   "source": [
    "Df(z).cash(5), z.cash(5)"
   ],
   "metadata": {
    "collapsed": false
   }
  },
  {
   "cell_type": "code",
   "execution_count": null,
   "outputs": [],
   "source": [
    "#_ = plot(lin(0.25, 30, 0.25), z, Par(z), Cash(z), Cash(z, cash_frequency=1),legend=True)\n",
    "_ = plot(lin(0.25, 25, 0.25), Cash(z), Cash(z, cash_frequency=1), Par(z),\n",
    "         Par(z, cash_frequency=1), legend=True)"
   ],
   "metadata": {
    "collapsed": false
   }
  },
  {
   "cell_type": "code",
   "execution_count": null,
   "outputs": [],
   "source": [
    "zcurve = ZeroRate(0.01)\n",
    "df = Df(zcurve)\n",
    "zcurve, df, df(5, 10), zcurve.df(5, 10), df.zero(5, 10), zcurve(5, 10)"
   ],
   "metadata": {
    "collapsed": false
   }
  },
  {
   "cell_type": "code",
   "execution_count": null,
   "metadata": {},
   "outputs": [],
   "source": [
    "zcurve = ZeroRate(0.01)\n",
    "fwd = CashRate(ZeroRate(0.01), frequency=4)\n",
    "swp = Par(zcurve, forward_curve=fwd)\n",
    "swp"
   ]
  },
  {
   "cell_type": "code",
   "execution_count": null,
   "metadata": {},
   "outputs": [],
   "source": [
    "df = Df(zcurve)\n",
    "zcurve.cash(10), df.cash(10), Cash(df)(10)"
   ]
  },
  {
   "cell_type": "code",
   "execution_count": null,
   "metadata": {},
   "outputs": [],
   "source": [
    "z = ZeroRate(c, frequency=1)"
   ]
  },
  {
   "cell_type": "code",
   "execution_count": null,
   "metadata": {},
   "outputs": [],
   "source": [
    "c = NelsonSiegelSvensson.download(-1)\n",
    "setattr(c, 'repr_repr', r'$i(t)$')\n",
    "d = NelsonSiegelSvensson.download(-1)\n",
    "d.short_rate = True\n",
    "setattr(d, 'repr_repr', r'$r(t)$')"
   ]
  },
  {
   "cell_type": "code",
   "execution_count": null,
   "metadata": {},
   "outputs": [],
   "source": [
    "ascii_plot(lin(0, 30, 0.025), c, d)"
   ]
  },
  {
   "cell_type": "code",
   "execution_count": null,
   "metadata": {},
   "outputs": [],
   "source": [
    "_ = plot(lin(0, 30, 0.025), c, d, legend=True)"
   ]
  },
  {
   "cell_type": "code",
   "execution_count": null,
   "outputs": [],
   "source": [],
   "metadata": {
    "collapsed": false
   }
  }
 ],
 "metadata": {
  "kernelspec": {
   "display_name": "Python 3 (ipykernel)",
   "language": "python",
   "name": "python3"
  },
  "language_info": {
   "codemirror_mode": {
    "name": "ipython",
    "version": 3
   },
   "file_extension": ".py",
   "mimetype": "text/x-python",
   "name": "python",
   "nbconvert_exporter": "python",
   "pygments_lexer": "ipython3",
   "version": "3.11.9"
  }
 },
 "nbformat": 4,
 "nbformat_minor": 1
}
