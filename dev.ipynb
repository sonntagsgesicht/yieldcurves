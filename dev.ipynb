{
 "cells": [
  {
   "cell_type": "code",
   "execution_count": 1,
   "metadata": {
    "ExecuteTime": {
     "end_time": "2024-05-10T16:34:58.897269Z",
     "start_time": "2024-05-10T16:34:58.393434Z"
    }
   },
   "outputs": [],
   "source": [
    "%load_ext autoreload\n",
    "%autoreload 2"
   ]
  },
  {
   "cell_type": "code",
   "execution_count": 28,
   "metadata": {
    "ExecuteTime": {
     "end_time": "2024-05-10T17:25:53.935359Z",
     "start_time": "2024-05-10T17:25:53.859038Z"
    }
   },
   "outputs": [],
   "source": [
    "import dcf\n",
    "from yieldcurves.parametric import NelsonSiegelSvensson, \\\n",
    "    NelsonSiegelSvenssonShortRate\n",
    "from yieldcurves.tools import ascii_plot, lin, plot\n",
    "from yieldcurves import *\n",
    "from yieldcurves.analytics import *\n",
    "from yieldcurves.interpolation import linear, plist, \\\n",
    "    _default_value_interpolation, no\n",
    "from yieldcurves.compounding import *"
   ]
  },
  {
   "cell_type": "code",
   "execution_count": 57,
   "outputs": [
    {
     "name": "stdout",
     "output_type": "stream",
     "text": [
      "start=0.0 stop=0.0027378507871321013\n",
      "ir=0.019978260869565216 t=0.0027378507871321013 df=0.9999453039986336\n",
      "self._get_compounding_rate(0, stop)=0.019978260869565216 self._get_compounding_rate(0, start)=0.02\n",
      "self._get_compounding_factor(0, stop)=0.9999453039986336 self._get_compounding_factor(0, start)=1.0\n",
      "ir=0.01997826086956044 t=0.0027378507871321013 df=0.9999453039986336\n",
      "yc_curve.curve(stop)=0.019978260869565216 yc_curve.curve(start)=0.02\n",
      "yc_curve.df(stop)=0.9999453039986336 yc_curve.df(start)=1.0\n"
     ]
    },
    {
     "data": {
      "text/plain": "(0.018, 0.019934782608676094)"
     },
     "execution_count": 57,
     "metadata": {},
     "output_type": "execute_result"
    }
   ],
   "source": [
    "curve = linear([0.0, 0.2518822724161533, 0.5037645448323066, 0.75564681724846,\n",
    "                0.999315537303217, 1.2511978097193703, 1.5030800821355237,\n",
    "                1.754962354551677, 1.998631074606434, 2.2505133470225873,\n",
    "                2.5023956194387407, 2.754277891854894, 2.9979466119096507,\n",
    "                3.249828884325804, 3.5017111567419574, 3.753593429158111, 4.0,\n",
    "                4.251882272416153, 4.503764544832307, 4.75564681724846,\n",
    "                4.999315537303217, 5.25119780971937, 5.503080082135524,\n",
    "                5.754962354551677, 5.9986310746064335, 6.250513347022587,\n",
    "                6.50239561943874, 6.754277891854894, 6.997946611909651,\n",
    "                7.2498288843258045, 7.501711156741957, 7.753593429158111, 8.0,\n",
    "                8.251882272416154, 8.503764544832306, 8.75564681724846,\n",
    "                8.999315537303216, 9.25119780971937, 9.503080082135524,\n",
    "                99.],\n",
    "               [0.02, 0.018, 0.016, 0.015, 0.017, 0.019, 0.02, 0.018, 0.016,\n",
    "                0.015, 0.017, 0.019, 0.02, 0.018, 0.016, 0.015, 0.017, 0.019,\n",
    "                0.02, 0.018, 0.016, 0.015, 0.017, 0.019, 0.02, 0.018, 0.016,\n",
    "                0.015, 0.017, 0.019, 0.02, 0.018, 0.016, 0.015, 0.017, 0.019,\n",
    "                0.02, 0.018, 0.016, 0.015])\n",
    "\n",
    "dcf_curve = dcf.ZeroRateCurve(curve.x_list, curve.y_list, forward_tenor=0.25, origin=0)\n",
    "yc_curve = ZeroRate(curve, cash_frequency=None, frequency=None)\n",
    "\n",
    "self, start, stop = dcf_curve, 0.0, 0.0027378507871321013\n",
    "print(f\"{start=} {stop=}\")\n",
    "ir = self._get_compounding_rate(start, stop)\n",
    "t = self.day_count(start, stop)\n",
    "df = self._get_compounding_factor(start, stop)\n",
    "print(f\"{ir=} {t=} {df=}\")\n",
    "print(f\"{self._get_compounding_rate(0, stop)=} {self._get_compounding_rate(0, start)=}\")\n",
    "print(f\"{self._get_compounding_factor(0, stop)=} {self._get_compounding_factor(0, start)=}\")\n",
    "\n",
    "ir = yc_curve.zero(start, stop)\n",
    "t = stop - start\n",
    "df = yc_curve.df(start, stop)\n",
    "print(f\"{ir=} {t=} {df=}\")\n",
    "\n",
    "print(f\"{yc_curve.curve(stop)=} {yc_curve.curve(start)=}\")\n",
    "print(f\"{yc_curve.df(stop)=} {yc_curve.df(start)=}\")\n",
    "\n",
    "dcf_curve.get_short_rate(0.0027378507871321013), yc_curve.short(0.0027378507871321013)\n"
   ],
   "metadata": {
    "collapsed": false,
    "ExecuteTime": {
     "end_time": "2024-05-11T09:23:29.471363Z",
     "start_time": "2024-05-11T09:23:28.968309Z"
    }
   }
  },
  {
   "cell_type": "code",
   "execution_count": 31,
   "outputs": [
    {
     "data": {
      "text/plain": "(0.994975022206863, 0.020050461154033597, 0.994975022206863)"
     },
     "execution_count": 31,
     "metadata": {},
     "output_type": "execute_result"
    }
   ],
   "source": [
    "d = dcf.ZeroRateCurve(l.x_list, l.y_list, forward_tenor=0.25)\n",
    "start, stop = x, y\n",
    "d.get_discount_factor(x, y), d.get_cash_rate(x, y), d._get_compounding_factor(\n",
    "    start, stop)"
   ],
   "metadata": {
    "collapsed": false,
    "ExecuteTime": {
     "end_time": "2024-05-10T17:27:48.878839Z",
     "start_time": "2024-05-10T17:27:48.810283Z"
    }
   }
  },
  {
   "cell_type": "code",
   "execution_count": null,
   "outputs": [],
   "source": [
    "l = linear([1, 2, 3, 50], [0.01, 0.05, 0.02, 0.03])\n",
    "print(repr(l))\n",
    "str(l), repr(l), l(2.5), l.x_list"
   ],
   "metadata": {
    "collapsed": false
   }
  },
  {
   "cell_type": "code",
   "execution_count": null,
   "outputs": [],
   "source": [
    "# c = NelsonSiegelSvensson.download(-1)\n",
    "c = NelsonSiegelSvensson(beta0=1.9137, beta1=1.97448, beta2=-28.16468,\n",
    "                         beta3=27.22348, tau1=4.6538, tau2=5.29223)\n",
    "c"
   ],
   "metadata": {
    "collapsed": false
   }
  },
  {
   "cell_type": "code",
   "execution_count": null,
   "outputs": [],
   "source": [
    "NelsonSiegelSvenssonShortRate(**c.params)"
   ],
   "metadata": {
    "collapsed": false
   }
  },
  {
   "cell_type": "code",
   "execution_count": null,
   "outputs": [],
   "source": [
    "a = AssetPriceYield(.03, spot=40)\n",
    "a, a.price_yield(1, 2), a.price(10)"
   ],
   "metadata": {
    "collapsed": false
   }
  },
  {
   "cell_type": "code",
   "execution_count": null,
   "outputs": [],
   "source": [
    "z = ZeroRate(l)\n",
    "df = Df(z)\n",
    "z.par(5, 10)"
   ],
   "metadata": {
    "collapsed": false
   }
  },
  {
   "cell_type": "code",
   "execution_count": null,
   "outputs": [],
   "source": [
    "c = Const(0.01)\n",
    "z = ZeroRate(c, cash_frequency=2)\n",
    "df = Df(z)"
   ],
   "metadata": {
    "collapsed": false
   }
  },
  {
   "cell_type": "code",
   "execution_count": null,
   "outputs": [],
   "source": [
    "T = 3\n",
    "dates = list(x / z.cash_frequency for x in range(T * z.cash_frequency)) + [T]\n",
    "sum(df(x) / z.cash_frequency for x in dates[1:])"
   ],
   "metadata": {
    "collapsed": false
   }
  },
  {
   "cell_type": "code",
   "execution_count": null,
   "outputs": [],
   "source": [
    "swap_annuity(z, dates)"
   ],
   "metadata": {
    "collapsed": false
   }
  },
  {
   "cell_type": "code",
   "execution_count": null,
   "outputs": [],
   "source": [
    "swap_annuity(z, T, cash_frequency=z.cash_frequency)"
   ],
   "metadata": {
    "collapsed": false
   }
  },
  {
   "cell_type": "code",
   "execution_count": null,
   "outputs": [],
   "source": [
    "annuity = Annuity(z)\n",
    "annuity, annuity(T)"
   ],
   "metadata": {
    "collapsed": false
   }
  },
  {
   "cell_type": "code",
   "execution_count": null,
   "outputs": [],
   "source": [
    "swap_par_rate(z, T, cash_frequency=z.cash_frequency)"
   ],
   "metadata": {
    "collapsed": false
   }
  },
  {
   "cell_type": "code",
   "execution_count": null,
   "outputs": [],
   "source": [
    "par = Par(z)\n",
    "par, par(T), par(T, 15), z.par(T), z.par(T, 15), z.par"
   ],
   "metadata": {
    "collapsed": false
   }
  },
  {
   "cell_type": "code",
   "execution_count": null,
   "outputs": [],
   "source": [
    "Cash(z), Cash(z)(T), z.cash(T), z.cash"
   ],
   "metadata": {
    "collapsed": false
   }
  },
  {
   "cell_type": "code",
   "execution_count": null,
   "outputs": [],
   "source": [
    "Df(z).cash(5), z.cash(5)"
   ],
   "metadata": {
    "collapsed": false
   }
  },
  {
   "cell_type": "code",
   "execution_count": null,
   "outputs": [],
   "source": [
    "#_ = plot(lin(0.25, 30, 0.25), z, Par(z), Cash(z), Cash(z, cash_frequency=1),legend=True)\n",
    "_ = plot(lin(0.25, 25, 0.25), Cash(z), Cash(z, cash_frequency=1), Par(z),\n",
    "         Par(z, cash_frequency=1), legend=True)"
   ],
   "metadata": {
    "collapsed": false
   }
  },
  {
   "cell_type": "code",
   "execution_count": null,
   "outputs": [],
   "source": [
    "zcurve = ZeroRate(0.01)\n",
    "df = Df(zcurve)\n",
    "zcurve, df, df(5, 10), zcurve.df(5, 10), df.zero(5, 10), zcurve(5, 10)"
   ],
   "metadata": {
    "collapsed": false
   }
  },
  {
   "cell_type": "code",
   "execution_count": null,
   "metadata": {},
   "outputs": [],
   "source": [
    "zcurve = ZeroRate(0.01)\n",
    "fwd = CashRate(ZeroRate(0.01), frequency=4)\n",
    "swp = Par(zcurve, forward_curve=fwd)\n",
    "swp"
   ]
  },
  {
   "cell_type": "code",
   "execution_count": null,
   "metadata": {},
   "outputs": [],
   "source": [
    "df = Df(zcurve)\n",
    "zcurve.cash(10), df.cash(10), Cash(df)(10)"
   ]
  },
  {
   "cell_type": "code",
   "execution_count": null,
   "metadata": {},
   "outputs": [],
   "source": [
    "z = ZeroRate(c, frequency=1)"
   ]
  },
  {
   "cell_type": "code",
   "execution_count": null,
   "metadata": {},
   "outputs": [],
   "source": [
    "c = NelsonSiegelSvensson.download(-1)\n",
    "setattr(c, 'repr_repr', r'$i(t)$')\n",
    "d = NelsonSiegelSvensson.download(-1)\n",
    "d.short_rate = True\n",
    "setattr(d, 'repr_repr', r'$r(t)$')"
   ]
  },
  {
   "cell_type": "code",
   "execution_count": null,
   "metadata": {},
   "outputs": [],
   "source": [
    "ascii_plot(lin(0, 30, 0.025), c, d)"
   ]
  },
  {
   "cell_type": "code",
   "execution_count": null,
   "metadata": {},
   "outputs": [],
   "source": [
    "_ = plot(lin(0, 30, 0.025), c, d, legend=True)"
   ]
  },
  {
   "cell_type": "code",
   "execution_count": null,
   "metadata": {},
   "outputs": [],
   "source": [
    "f = NelsonSiegelSvensson.download('2024-04-16')\n",
    "f_1m = Cash(ZeroRate(f, frequency=12))\n",
    "f_3m = Cash(ZeroRate(f, frequency=4))\n",
    "f_6m = Cash(ZeroRate(f, frequency=2))\n",
    "f12m = Cash(ZeroRate(f, frequency=1))\n",
    "s = NelsonSiegelSvensson.download('2024-04-16')\n",
    "s.short_rate = True\n",
    "setattr(f, 'repr_repr', r'$i$')\n",
    "setattr(f_1m, 'repr_repr', r'$f_{\\tt 1m}$')\n",
    "setattr(f_3m, 'repr_repr', r'$f_{\\tt 3m}$')\n",
    "setattr(f_6m, 'repr_repr', r'$f_{\\tt 6m}$')\n",
    "setattr(f12m, 'repr_repr', r'$f_{\\tt 12m}$')\n",
    "setattr(s, 'repr_repr', r'$r$')"
   ]
  },
  {
   "cell_type": "code",
   "execution_count": null,
   "metadata": {},
   "outputs": [],
   "source": [
    "ax = plot(lin(0, 10, 0.025), f, f_1m, f_3m, f_6m, f12m, s, legend=True,\n",
    "          show=False)\n",
    "ax.set_ylim([0.02, 0.03])"
   ]
  }
 ],
 "metadata": {
  "kernelspec": {
   "display_name": "Python 3 (ipykernel)",
   "language": "python",
   "name": "python3"
  },
  "language_info": {
   "codemirror_mode": {
    "name": "ipython",
    "version": 3
   },
   "file_extension": ".py",
   "mimetype": "text/x-python",
   "name": "python",
   "nbconvert_exporter": "python",
   "pygments_lexer": "ipython3",
   "version": "3.11.9"
  }
 },
 "nbformat": 4,
 "nbformat_minor": 1
}
