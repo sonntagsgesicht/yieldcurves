{
 "cells": [
  {
   "cell_type": "code",
   "execution_count": null,
   "metadata": {},
   "outputs": [],
   "source": [
    "%load_ext autoreload\n",
    "%autoreload 2"
   ]
  },
  {
   "cell_type": "code",
   "execution_count": 1,
   "metadata": {
    "ExecuteTime": {
     "end_time": "2024-05-03T17:10:40.161942Z",
     "start_time": "2024-05-03T17:10:38.641260Z"
    }
   },
   "outputs": [],
   "source": [
    "from yieldcurves.parametric import NelsonSiegelSvensson\n",
    "from yieldcurves.tools import ascii_plot, lin, plot\n",
    "from yieldcurves import *\n",
    "from yieldcurves.analytics import *"
   ]
  },
  {
   "cell_type": "code",
   "execution_count": 2,
   "outputs": [
    {
     "data": {
      "text/plain": "curve()"
     },
     "execution_count": 2,
     "metadata": {},
     "output_type": "execute_result"
    }
   ],
   "source": [
    "# c = NelsonSiegelSvensson.download(-1)\n",
    "c = NelsonSiegelSvensson(beta0=1.9137, beta1=1.97448, beta2=-28.16468, beta3=27.22348, tau1=4.6538, tau2=5.29223)\n",
    "setattr(c, 'repr_repr', r'curve()')\n",
    "\n",
    "z = ZeroRate(c, cash_frequency=12)\n",
    "df = Df(z)\n",
    "c"
   ],
   "metadata": {
    "collapsed": false,
    "ExecuteTime": {
     "end_time": "2024-05-03T17:10:40.179603Z",
     "start_time": "2024-05-03T17:10:40.171448Z"
    }
   }
  },
  {
   "cell_type": "code",
   "execution_count": null,
   "outputs": [],
   "source": [
    "c = Const(0.01)\n",
    "z = ZeroRate(c, cash_frequency=2)\n",
    "df = Df(z)"
   ],
   "metadata": {
    "collapsed": false
   }
  },
  {
   "cell_type": "code",
   "execution_count": 3,
   "outputs": [
    {
     "data": {
      "text/plain": "2.8655082156929907"
     },
     "execution_count": 3,
     "metadata": {},
     "output_type": "execute_result"
    }
   ],
   "source": [
    "T = 3\n",
    "dates = list(x / z.cash_frequency for x in range(T * z.cash_frequency)) + [T]\n",
    "sum(df(x) / z.cash_frequency for x in dates[1:])"
   ],
   "metadata": {
    "collapsed": false,
    "ExecuteTime": {
     "end_time": "2024-05-03T17:10:41.472080Z",
     "start_time": "2024-05-03T17:10:41.449491Z"
    }
   }
  },
  {
   "cell_type": "code",
   "execution_count": null,
   "outputs": [],
   "source": [
    "swap_annuity(z, dates)"
   ],
   "metadata": {
    "collapsed": false
   }
  },
  {
   "cell_type": "code",
   "execution_count": null,
   "outputs": [],
   "source": [
    "swap_annuity(z, T, cash_frequency=z.cash_frequency)"
   ],
   "metadata": {
    "collapsed": false
   }
  },
  {
   "cell_type": "code",
   "execution_count": null,
   "outputs": [],
   "source": [
    "annuity = Annuity(z)\n",
    "annuity, annuity(T)"
   ],
   "metadata": {
    "collapsed": false
   }
  },
  {
   "cell_type": "code",
   "execution_count": null,
   "outputs": [],
   "source": [
    "swap_par_rate(z, T, cash_frequency=z.cash_frequency)"
   ],
   "metadata": {
    "collapsed": false
   }
  },
  {
   "cell_type": "code",
   "execution_count": null,
   "outputs": [],
   "source": [
    "par = Par(z)\n",
    "par, par(T), par(T, 15), z.par(T), z.par(T, 15), z.par"
   ],
   "metadata": {
    "collapsed": false
   }
  },
  {
   "cell_type": "code",
   "execution_count": null,
   "outputs": [],
   "source": [
    "Cash(z), Cash(z)(T), z.cash(T), z.cash"
   ],
   "metadata": {
    "collapsed": false
   }
  },
  {
   "cell_type": "code",
   "execution_count": 5,
   "outputs": [
    {
     "data": {
      "text/plain": "(0.02272842232334682, 0.02272842232334682)"
     },
     "execution_count": 5,
     "metadata": {},
     "output_type": "execute_result"
    }
   ],
   "source": [
    "Df(z).cash(5), z.cash(5)"
   ],
   "metadata": {
    "collapsed": false,
    "ExecuteTime": {
     "end_time": "2024-05-03T17:10:54.559427Z",
     "start_time": "2024-05-03T17:10:54.540474Z"
    }
   }
  },
  {
   "cell_type": "code",
   "execution_count": null,
   "outputs": [],
   "source": [
    "#_ = plot(lin(0.25, 30, 0.25), z, Par(z), Cash(z), Cash(z, cash_frequency=1),legend=True)\n",
    "_ = plot(lin(0.25, 25, 0.25), Cash(z), Cash(z, cash_frequency=1), Par(z), Par(z, cash_frequency=1), legend=True)"
   ],
   "metadata": {
    "collapsed": false
   }
  },
  {
   "cell_type": "code",
   "execution_count": null,
   "outputs": [],
   "source": [
    "zcurve = ZeroRate(0.01)\n",
    "df = Df(zcurve)\n",
    "zcurve, df, df(5, 10), zcurve.df(5, 10), df.zero(5, 10), zcurve(5, 10)"
   ],
   "metadata": {
    "collapsed": false
   }
  },
  {
   "cell_type": "code",
   "execution_count": null,
   "metadata": {},
   "outputs": [],
   "source": [
    "zcurve = ZeroRate(0.01)\n",
    "fwd = CashRate(ZeroRate(0.01), frequency=4)\n",
    "swp = Par(zcurve, forward_curve=fwd)\n",
    "swp"
   ]
  },
  {
   "cell_type": "code",
   "execution_count": null,
   "metadata": {},
   "outputs": [],
   "source": [
    "df = Df(zcurve)\n",
    "zcurve.cash(10), df.cash(10), Cash(df)(10)"
   ]
  },
  {
   "cell_type": "code",
   "execution_count": null,
   "metadata": {},
   "outputs": [],
   "source": [
    "z = ZeroRate(c, frequency=1)"
   ]
  },
  {
   "cell_type": "code",
   "execution_count": null,
   "metadata": {},
   "outputs": [],
   "source": [
    "c = NelsonSiegelSvensson.download(-1)\n",
    "setattr(c, 'repr_repr', r'$i(t)$')\n",
    "d = NelsonSiegelSvensson.download(-1)\n",
    "d.short_rate = True\n",
    "setattr(d, 'repr_repr', r'$r(t)$')"
   ]
  },
  {
   "cell_type": "code",
   "execution_count": null,
   "metadata": {},
   "outputs": [],
   "source": [
    "ascii_plot(lin(0, 30, 0.025), c, d)"
   ]
  },
  {
   "cell_type": "code",
   "execution_count": null,
   "metadata": {},
   "outputs": [],
   "source": [
    "_ = plot(lin(0, 30, 0.025), c, d, legend=True)"
   ]
  },
  {
   "cell_type": "code",
   "execution_count": null,
   "metadata": {},
   "outputs": [],
   "source": [
    "f = NelsonSiegelSvensson.download('2024-04-16')\n",
    "f_1m = Cash(ZeroRate(f, frequency=12))\n",
    "f_3m = Cash(ZeroRate(f, frequency=4))\n",
    "f_6m = Cash(ZeroRate(f, frequency=2))\n",
    "f12m = Cash(ZeroRate(f, frequency=1))\n",
    "s = NelsonSiegelSvensson.download('2024-04-16')\n",
    "s.short_rate = True\n",
    "setattr(f, 'repr_repr', r'$i$')\n",
    "setattr(f_1m, 'repr_repr', r'$f_{\\tt 1m}$')\n",
    "setattr(f_3m, 'repr_repr', r'$f_{\\tt 3m}$')\n",
    "setattr(f_6m, 'repr_repr', r'$f_{\\tt 6m}$')\n",
    "setattr(f12m, 'repr_repr', r'$f_{\\tt 12m}$')\n",
    "setattr(s, 'repr_repr', r'$r$')"
   ]
  },
  {
   "cell_type": "code",
   "execution_count": null,
   "metadata": {},
   "outputs": [],
   "source": [
    "ax = plot(lin(0, 10, 0.025), f, f_1m, f_3m, f_6m, f12m, s, legend=True, show=False)\n",
    "ax.set_ylim([0.02, 0.03])"
   ]
  }
 ],
 "metadata": {
  "kernelspec": {
   "display_name": "Python 3 (ipykernel)",
   "language": "python",
   "name": "python3"
  },
  "language_info": {
   "codemirror_mode": {
    "name": "ipython",
    "version": 3
   },
   "file_extension": ".py",
   "mimetype": "text/x-python",
   "name": "python",
   "nbconvert_exporter": "python",
   "pygments_lexer": "ipython3",
   "version": "3.11.9"
  }
 },
 "nbformat": 4,
 "nbformat_minor": 1
}
