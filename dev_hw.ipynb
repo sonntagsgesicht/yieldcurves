{
 "cells": [
  {
   "cell_type": "code",
   "source": [
    "%load_ext autoreload\n",
    "%autoreload 2"
   ],
   "metadata": {},
   "outputs": [],
   "execution_count": null
  },
  {
   "metadata": {
    "collapsed": false,
    "ExecuteTime": {
     "end_time": "2024-08-30T22:04:49.744074Z",
     "start_time": "2024-08-30T22:04:48.841298Z"
    }
   },
   "cell_type": "code",
   "source": [
    "import pandas as pd\n",
    "pd.DataFrame(list(range(10)))"
   ],
   "outputs": [
    {
     "data": {
      "text/plain": [
       "   0\n",
       "0  0\n",
       "1  1\n",
       "2  2\n",
       "3  3\n",
       "4  4\n",
       "5  5\n",
       "6  6\n",
       "7  7\n",
       "8  8\n",
       "9  9"
      ],
      "text/html": [
       "<div>\n",
       "<style scoped>\n",
       "    .dataframe tbody tr th:only-of-type {\n",
       "        vertical-align: middle;\n",
       "    }\n",
       "\n",
       "    .dataframe tbody tr th {\n",
       "        vertical-align: top;\n",
       "    }\n",
       "\n",
       "    .dataframe thead th {\n",
       "        text-align: right;\n",
       "    }\n",
       "</style>\n",
       "<table border=\"1\" class=\"dataframe\">\n",
       "  <thead>\n",
       "    <tr style=\"text-align: right;\">\n",
       "      <th></th>\n",
       "      <th>0</th>\n",
       "    </tr>\n",
       "  </thead>\n",
       "  <tbody>\n",
       "    <tr>\n",
       "      <th>0</th>\n",
       "      <td>0</td>\n",
       "    </tr>\n",
       "    <tr>\n",
       "      <th>1</th>\n",
       "      <td>1</td>\n",
       "    </tr>\n",
       "    <tr>\n",
       "      <th>2</th>\n",
       "      <td>2</td>\n",
       "    </tr>\n",
       "    <tr>\n",
       "      <th>3</th>\n",
       "      <td>3</td>\n",
       "    </tr>\n",
       "    <tr>\n",
       "      <th>4</th>\n",
       "      <td>4</td>\n",
       "    </tr>\n",
       "    <tr>\n",
       "      <th>5</th>\n",
       "      <td>5</td>\n",
       "    </tr>\n",
       "    <tr>\n",
       "      <th>6</th>\n",
       "      <td>6</td>\n",
       "    </tr>\n",
       "    <tr>\n",
       "      <th>7</th>\n",
       "      <td>7</td>\n",
       "    </tr>\n",
       "    <tr>\n",
       "      <th>8</th>\n",
       "      <td>8</td>\n",
       "    </tr>\n",
       "    <tr>\n",
       "      <th>9</th>\n",
       "      <td>9</td>\n",
       "    </tr>\n",
       "  </tbody>\n",
       "</table>\n",
       "</div>"
      ]
     },
     "execution_count": 1,
     "metadata": {},
     "output_type": "execute_result"
    }
   ],
   "execution_count": 1
  },
  {
   "cell_type": "code",
   "execution_count": 2,
   "outputs": [],
   "source": [
    "from yieldcurves.models import HullWhite"
   ],
   "metadata": {
    "collapsed": false,
    "ExecuteTime": {
     "end_time": "2024-08-21T07:36:01.292313Z",
     "start_time": "2024-08-21T07:35:58.488733Z"
    }
   }
  },
  {
   "cell_type": "markdown",
   "source": [
    "# HullWhite"
   ],
   "metadata": {
    "collapsed": false
   }
  },
  {
   "cell_type": "code",
   "execution_count": null,
   "outputs": [],
   "source": [
    "hw = HullWhite(mean_reversion=0.1, volatility=0.01, terminal_date=10.).curve(0.02)\n",
    "f = HullWhite(mean_reversion=0.01, volatility=0.02, domestic=hw.model).curve(0.03)\n",
    "fx = f.model.fx(1.1)"
   ],
   "metadata": {
    "collapsed": false
   }
  },
  {
   "cell_type": "code",
   "execution_count": null,
   "outputs": [],
   "source": [
    "hw.evolve()\n",
    "print(f\"{hw=}\")\n",
    "print(dict(hw.items()))\n",
    "print(f\"{hw(3)=}\")"
   ],
   "metadata": {
    "collapsed": false
   }
  },
  {
   "cell_type": "code",
   "execution_count": null,
   "outputs": [],
   "source": [
    "f.evolve()\n",
    "print(f\"{f=}\")\n",
    "print(dict(f.items()))\n",
    "print(f\"{f(3)=}\")"
   ],
   "metadata": {
    "collapsed": false
   }
  },
  {
   "cell_type": "code",
   "execution_count": null,
   "outputs": [],
   "source": [
    "fx.evolve()\n",
    "print(f\"{fx=}\")\n",
    "print(dict(fx.items()))\n",
    "print(f\"{float(fx)=}\")"
   ],
   "metadata": {
    "collapsed": false
   }
  },
  {
   "cell_type": "code",
   "execution_count": 44,
   "outputs": [
    {
     "data": {
      "text/plain": "[0.9, 1.8, 2.7, 3.6, 4.5, 5.4, 6.3, 7.2]"
     },
     "execution_count": 44,
     "metadata": {},
     "output_type": "execute_result"
    }
   ],
   "source": [
    "hw.model.increments(8, step_size=.9)"
   ],
   "metadata": {
    "collapsed": false,
    "ExecuteTime": {
     "end_time": "2024-08-16T16:21:49.582992Z",
     "start_time": "2024-08-16T16:21:49.578312Z"
    }
   }
  },
  {
   "cell_type": "code",
   "execution_count": 40,
   "outputs": [
    {
     "data": {
      "text/plain": "[HullWhite.Curve(0.02, model=HullWhite(0.1, 0.01, 10.0)),\n HullWhite.Curve(0.02, model=HullWhite(0.1, 0.01, 10.0)),\n HullWhite.Curve(0.02, model=HullWhite(0.1, 0.01, 10.0))]"
     },
     "execution_count": 40,
     "metadata": {},
     "output_type": "execute_result"
    }
   ],
   "source": [
    "sample = hw.sample(3)\n",
    "sample"
   ],
   "metadata": {
    "collapsed": false,
    "ExecuteTime": {
     "end_time": "2024-08-16T16:20:59.402461Z",
     "start_time": "2024-08-16T16:20:59.181730Z"
    }
   }
  },
  {
   "cell_type": "code",
   "execution_count": 41,
   "outputs": [
    {
     "data": {
      "text/plain": "[[0.0020565393228650472, -0.019935372045203004],\n [0.0020565393228650472, -0.019935372045203004, -0.025770784502536195],\n [0.0020565393228650472,\n  -0.019935372045203004,\n  -0.025770784502536195,\n  -0.04167574374639585]]"
     },
     "execution_count": 41,
     "metadata": {},
     "output_type": "execute_result"
    }
   ],
   "source": [
    "[list(c.values()) for c in sample]"
   ],
   "metadata": {
    "collapsed": false,
    "ExecuteTime": {
     "end_time": "2024-08-16T16:21:01.149829Z",
     "start_time": "2024-08-16T16:21:01.144255Z"
    }
   }
  },
  {
   "cell_type": "code",
   "execution_count": 43,
   "outputs": [
    {
     "data": {
      "text/plain": "[0.0004964805508022606, -0.0006430466369076481, -0.0023343784398829094]"
     },
     "execution_count": 43,
     "metadata": {},
     "output_type": "execute_result"
    }
   ],
   "source": [
    "[c(1.5) for c in sample]"
   ],
   "metadata": {
    "collapsed": false,
    "ExecuteTime": {
     "end_time": "2024-08-16T16:21:26.624911Z",
     "start_time": "2024-08-16T16:21:26.582609Z"
    }
   }
  },
  {
   "cell_type": "code",
   "execution_count": null,
   "outputs": [],
   "source": [
    "hw.clear()\n",
    "dict(hw.items())"
   ],
   "metadata": {
    "collapsed": false
   }
  },
  {
   "cell_type": "code",
   "execution_count": null,
   "outputs": [],
   "source": [
    "hw.evolve(0.25)\n",
    "dict(hw.items())"
   ],
   "metadata": {
    "collapsed": false
   }
  },
  {
   "cell_type": "code",
   "execution_count": 45,
   "outputs": [
    {
     "data": {
      "text/plain": "[[HullWhite.Curve(0.02, model=HullWhite(0.1, 0.01, 10.0)),\n  HullWhite.Curve(0.02, model=HullWhite(0.1, 0.01, 10.0))],\n [HullWhite.Curve(0.02, model=HullWhite(0.1, 0.01, 10.0)),\n  HullWhite.Curve(0.02, model=HullWhite(0.1, 0.01, 10.0))],\n [HullWhite.Curve(0.02, model=HullWhite(0.1, 0.01, 10.0)),\n  HullWhite.Curve(0.02, model=HullWhite(0.1, 0.01, 10.0))]]"
     },
     "execution_count": 45,
     "metadata": {},
     "output_type": "execute_result"
    }
   ],
   "source": [
    "hw.simulate(3, 2)"
   ],
   "metadata": {
    "collapsed": false,
    "ExecuteTime": {
     "end_time": "2024-08-16T16:22:09.571533Z",
     "start_time": "2024-08-16T16:22:08.945702Z"
    }
   }
  },
  {
   "cell_type": "code",
   "execution_count": null,
   "outputs": [],
   "source": [
    "[dict(_[1].items()) for _ in hw.simulate(3, 2, step_size=.25)]"
   ],
   "metadata": {
    "collapsed": false
   }
  },
  {
   "cell_type": "markdown",
   "source": [
    "# Global"
   ],
   "metadata": {
    "collapsed": false
   }
  },
  {
   "cell_type": "code",
   "execution_count": 45,
   "outputs": [],
   "source": [
    "rate_corr = [[1.0, 0.6], [0.6, 1.0]]\n",
    "fx_corr = [[1.0]]\n",
    "rate_fx_corr = [[0.22], [0.33]]"
   ],
   "metadata": {
    "collapsed": false,
    "ExecuteTime": {
     "end_time": "2024-08-21T13:40:18.815448Z",
     "start_time": "2024-08-21T13:40:18.716600Z"
    }
   }
  },
  {
   "cell_type": "code",
   "execution_count": 46,
   "outputs": [
    {
     "data": {
      "text/plain": "[[1.0, 0.6, 0.22], [0.6, 1.0, 0.33], [0.22, 0.33, 1.0]]"
     },
     "execution_count": 46,
     "metadata": {},
     "output_type": "execute_result"
    }
   ],
   "source": [
    "# 1. correlation\n",
    "corr = HullWhite.Global.foreign_correlation(rate_corr, fx_corr, rate_fx_corr)\n",
    "corr"
   ],
   "metadata": {
    "collapsed": false,
    "ExecuteTime": {
     "end_time": "2024-08-21T13:40:20.377412Z",
     "start_time": "2024-08-21T13:40:20.300974Z"
    }
   }
  },
  {
   "cell_type": "code",
   "execution_count": 42,
   "outputs": [],
   "source": [
    "rate_curve = 0.02, 0.03\n",
    "fx_spot = 1.2, 2.3\n",
    "\n",
    "mean_reversion = 0.12, 0.21\n",
    "volatility = 0.06, 0.07\n",
    "fx_volatility = 0.1, 0.2"
   ],
   "metadata": {
    "collapsed": false,
    "ExecuteTime": {
     "end_time": "2024-08-21T12:38:02.330202Z",
     "start_time": "2024-08-21T12:38:02.245063Z"
    }
   }
  },
  {
   "cell_type": "code",
   "execution_count": 43,
   "outputs": [
    {
     "data": {
      "text/plain": "[HullWhite.Curve(0.02, model=HullWhite(0.12, 0.06, domestic=HullWhite(0.1, 0.04))),\n HullWhite.Fx(1.2, model=HullWhite(0.12, 0.06, domestic=HullWhite(0.1, 0.04))),\n HullWhite.Curve(0.03, model=HullWhite(0.21, 0.07, domestic=HullWhite(0.1, 0.04))),\n HullWhite.Fx(2.3, model=HullWhite(0.21, 0.07, domestic=HullWhite(0.1, 0.04)))]"
     },
     "execution_count": 43,
     "metadata": {},
     "output_type": "execute_result"
    }
   ],
   "source": [
    "# 2. factors\n",
    "domestic = HullWhite(0.1, 0.04).curve(0.01)\n",
    "factors = HullWhite.Global.foreign_factors(rate_curve, fx=fx_spot, mean_reversion=mean_reversion, volatility=volatility, domestic=domestic, fx_volatility=())\n",
    "factors"
   ],
   "metadata": {
    "collapsed": false,
    "ExecuteTime": {
     "end_time": "2024-08-21T12:38:04.486452Z",
     "start_time": "2024-08-21T12:38:03.339154Z"
    }
   }
  },
  {
   "cell_type": "code",
   "execution_count": 50,
   "outputs": [
    {
     "data": {
      "text/plain": "HullWhite.Global((HullWhite.Curve(0.01, model=HullWhite(0.1, 0.04)), HullWhite.Fx(1.2, model=HullWhite(0.12, 0.06, domestic=HullWhite(0.1, 0.04))), HullWhite.Curve(0.02, model=HullWhite(0.12, 0.06, domestic=HullWhite(0.1, 0.04))), HullWhite.Fx(2.3, model=HullWhite(0.21, 0.07, domestic=HullWhite(0.1, 0.04))), HullWhite.Curve(0.03, model=HullWhite(0.21, 0.07, domestic=HullWhite(0.1, 0.04)))), [[1.0, 0.11, 0.6, 0.12, 0.8], [0.11, 1.0, 0.21, 0.3, 0.31], [0.6, 0.21, 1.0, 0.22, 0.7], [0.12, 0.3, 0.22, 1.0, 0.32], [0.8, 0.31, 0.7, 0.32, 1.0]])"
     },
     "execution_count": 50,
     "metadata": {},
     "output_type": "execute_result"
    }
   ],
   "source": [
    "# 3. init\n",
    "g = HullWhite.Global([domestic] + factors, correlation=corr)\n",
    "g"
   ],
   "metadata": {
    "collapsed": false,
    "ExecuteTime": {
     "end_time": "2024-08-16T16:22:45.893377Z",
     "start_time": "2024-08-16T16:22:45.052310Z"
    }
   }
  },
  {
   "cell_type": "code",
   "execution_count": 51,
   "outputs": [
    {
     "data": {
      "text/plain": "HullWhite.Global((HullWhite.Curve(0.01, model=HullWhite(0.1, 0.04)), HullWhite.Fx(1.2, model=HullWhite(0.12, 0.06, domestic=HullWhite(0.1, 0.04))), HullWhite.Curve(0.02, model=HullWhite(0.12, 0.06, domestic=HullWhite(0.1, 0.04))), HullWhite.Fx(2.3, model=HullWhite(0.21, 0.07, domestic=HullWhite(0.1, 0.04))), HullWhite.Curve(0.03, model=HullWhite(0.21, 0.07, domestic=HullWhite(0.1, 0.04)))), [[1.0, 0.11, 0.6, 0.12, 0.8], [0.11, 1.0, 0.21, 0.3, 0.31], [0.6, 0.21, 1.0, 0.22, 0.7], [0.12, 0.3, 0.22, 1.0, 0.32], [0.8, 0.31, 0.7, 0.32, 1.0]])"
     },
     "execution_count": 51,
     "metadata": {},
     "output_type": "execute_result"
    }
   ],
   "source": [
    "# or\n",
    "g = HullWhite.Global([domestic] + factors)\n",
    "g.correlation = corr\n",
    "g"
   ],
   "metadata": {
    "collapsed": false,
    "ExecuteTime": {
     "end_time": "2024-08-16T16:22:52.575880Z",
     "start_time": "2024-08-16T16:22:51.748123Z"
    }
   }
  },
  {
   "cell_type": "code",
   "execution_count": 52,
   "outputs": [
    {
     "ename": "ValueError",
     "evalue": "domestic model must not have domestic model HullWhite.Fx(1.2, model=HullWhite(0.12, 0.06, domestic=HullWhite(0.1, 0.04)))",
     "output_type": "error",
     "traceback": [
      "\u001B[0;31m---------------------------------------------------------------------------\u001B[0m",
      "\u001B[0;31mValueError\u001B[0m                                Traceback (most recent call last)",
      "Cell \u001B[0;32mIn[52], line 2\u001B[0m\n\u001B[1;32m      1\u001B[0m \u001B[38;5;66;03m# fails\u001B[39;00m\n\u001B[0;32m----> 2\u001B[0m \u001B[43mHullWhite\u001B[49m\u001B[38;5;241;43m.\u001B[39;49m\u001B[43mGlobal\u001B[49m\u001B[43m(\u001B[49m\u001B[43mfactors\u001B[49m\u001B[43m)\u001B[49m\n",
      "File \u001B[0;32m~/Dropbox/Apps/github/sonntagsgesicht/pace/yieldcurves/yieldcurves/models/hullwhite.py:392\u001B[0m, in \u001B[0;36m__init__\u001B[0;34m(self, factors, correlation)\u001B[0m\n\u001B[1;32m    368\u001B[0m \u001B[38;5;129m@staticmethod\u001B[39m\n\u001B[1;32m    369\u001B[0m \u001B[38;5;28;01mdef\u001B[39;00m \u001B[38;5;21mbuild_factors\u001B[39m(curves, fx\u001B[38;5;241m=\u001B[39m\u001B[38;5;28;01mNone\u001B[39;00m, \u001B[38;5;241m*\u001B[39m,\n\u001B[1;32m    370\u001B[0m                   mean_reversion\u001B[38;5;241m=\u001B[39m(), volatility\u001B[38;5;241m=\u001B[39m(), terminal_date\u001B[38;5;241m=\u001B[39m\u001B[38;5;241m1.\u001B[39m,\n\u001B[1;32m    371\u001B[0m                   domestic\u001B[38;5;241m=\u001B[39m\u001B[38;5;28;01mNone\u001B[39;00m, fx_volatility\u001B[38;5;241m=\u001B[39m()):\n\u001B[1;32m    372\u001B[0m \u001B[38;5;250m    \u001B[39m\u001B[38;5;124;03m\"\"\"builds list of HullWhite factors (curve + optional fx)\u001B[39;00m\n\u001B[1;32m    373\u001B[0m \n\u001B[1;32m    374\u001B[0m \u001B[38;5;124;03m    :param curves: list of yield curves\u001B[39;00m\n\u001B[1;32m    375\u001B[0m \u001B[38;5;124;03m    :param fx: list of fx rates (optional: default not -> no fx factors)\u001B[39;00m\n\u001B[1;32m    376\u001B[0m \u001B[38;5;124;03m    :param mean_reversion: list of mean_reversion values\u001B[39;00m\n\u001B[1;32m    377\u001B[0m \u001B[38;5;124;03m        (optional: defaults to HullWhite defaults)\u001B[39;00m\n\u001B[1;32m    378\u001B[0m \u001B[38;5;124;03m    :param volatility: list of rate volatility values\u001B[39;00m\n\u001B[1;32m    379\u001B[0m \u001B[38;5;124;03m        (optional: defaults to HullWhite defaults)\u001B[39;00m\n\u001B[1;32m    380\u001B[0m \u001B[38;5;124;03m    :param terminal_date: date of terminal measure\u001B[39;00m\n\u001B[1;32m    381\u001B[0m \u001B[38;5;124;03m        (optional: defaults to HullWhite defaults)\u001B[39;00m\n\u001B[1;32m    382\u001B[0m \u001B[38;5;124;03m    :param domestic: domestic HullWhite curve or None\u001B[39;00m\n\u001B[1;32m    383\u001B[0m \u001B[38;5;124;03m    :param fx_volatility: list of fx volatility values\u001B[39;00m\n\u001B[1;32m    384\u001B[0m \u001B[38;5;124;03m        (optional: defaults to HullWhite defaults)\u001B[39;00m\n\u001B[1;32m    385\u001B[0m \u001B[38;5;124;03m    :return: list of HullWhite curves and - if given - fx\u001B[39;00m\n\u001B[1;32m    386\u001B[0m \n\u001B[1;32m    387\u001B[0m \u001B[38;5;124;03m    >>> from yieldcurves.models import HullWhite\u001B[39;00m\n\u001B[1;32m    388\u001B[0m \n\u001B[1;32m    389\u001B[0m \u001B[38;5;124;03m    >>> curves = 0.02, 0.03\u001B[39;00m\n\u001B[1;32m    390\u001B[0m \u001B[38;5;124;03m    >>> fx_rates = 1.2, 2.3\u001B[39;00m\n\u001B[1;32m    391\u001B[0m \n\u001B[0;32m--> 392\u001B[0m \u001B[38;5;124;03m    >>> mean_reversion = 0.12, 0.21\u001B[39;00m\n\u001B[1;32m    393\u001B[0m \u001B[38;5;124;03m    >>> volatility = 0.06, 0.07\u001B[39;00m\n\u001B[1;32m    394\u001B[0m \u001B[38;5;124;03m    >>> fx_volatility = 0.1, 0.2\u001B[39;00m\n\u001B[1;32m    395\u001B[0m \n\u001B[1;32m    396\u001B[0m \u001B[38;5;124;03m    first init domestic HullWhite curve\u001B[39;00m\n\u001B[1;32m    397\u001B[0m \n\u001B[1;32m    398\u001B[0m \u001B[38;5;124;03m    >>> domestic = HullWhite(0.1, 0.04).curve(0.01)\u001B[39;00m\n\u001B[1;32m    399\u001B[0m \n\u001B[1;32m    400\u001B[0m \u001B[38;5;124;03m    then build foreign HullWhite curves and HullWhite fx ractors\u001B[39;00m\n\u001B[1;32m    401\u001B[0m \n\u001B[1;32m    402\u001B[0m \u001B[38;5;124;03m    >>> factors = HullWhite.Global.build_factors(curves, fx=fx_rates,\u001B[39;00m\n\u001B[1;32m    403\u001B[0m \u001B[38;5;124;03m    ... mean_reversion=mean_reversion, volatility=volatility,\u001B[39;00m\n\u001B[1;32m    404\u001B[0m \u001B[38;5;124;03m    ... domestic=domestic, fx_volatility=())\u001B[39;00m\n\u001B[1;32m    405\u001B[0m \u001B[38;5;124;03m    >>> factors\u001B[39;00m\n\u001B[1;32m    406\u001B[0m \u001B[38;5;124;03m    [HullWhite.Fx(1.2, model=HullWhite(0.12, 0.06, domestic=HullWhite(0.1, 0.04))),\u001B[39;00m\n\u001B[1;32m    407\u001B[0m \u001B[38;5;124;03m     HullWhite.Curve(0.02, model=HullWhite(0.12, 0.06, domestic=HullWhite(0.1, 0.04))),\u001B[39;00m\n\u001B[1;32m    408\u001B[0m \u001B[38;5;124;03m     HullWhite.Fx(2.3, model=HullWhite(0.21, 0.07, domestic=HullWhite(0.1, 0.04))),\u001B[39;00m\n\u001B[1;32m    409\u001B[0m \u001B[38;5;124;03m     HullWhite.Curve(0.03, model=HullWhite(0.21, 0.07, domestic=HullWhite(0.1, 0.04)))]\u001B[39;00m\n\u001B[1;32m    410\u001B[0m \n\u001B[1;32m    411\u001B[0m \u001B[38;5;124;03m    \"\"\"\u001B[39;00m\n\u001B[1;32m    412\u001B[0m     \u001B[38;5;28;01mif\u001B[39;00m \u001B[38;5;28misinstance\u001B[39m(domestic, _HullWhiteFactor):\n\u001B[1;32m    413\u001B[0m         domestic \u001B[38;5;241m=\u001B[39m domestic\u001B[38;5;241m.\u001B[39mmodel\n",
      "\u001B[0;31mValueError\u001B[0m: domestic model must not have domestic model HullWhite.Fx(1.2, model=HullWhite(0.12, 0.06, domestic=HullWhite(0.1, 0.04)))"
     ]
    }
   ],
   "source": [
    "# fails\n",
    "HullWhite.Global(factors)"
   ],
   "metadata": {
    "collapsed": false,
    "ExecuteTime": {
     "end_time": "2024-08-16T16:23:04.512421Z",
     "start_time": "2024-08-16T16:23:04.282080Z"
    }
   }
  },
  {
   "cell_type": "code",
   "execution_count": 53,
   "outputs": [
    {
     "ename": "ValueError",
     "evalue": "correlation of wrong size 5 expected size 8",
     "output_type": "error",
     "traceback": [
      "\u001B[0;31m---------------------------------------------------------------------------\u001B[0m",
      "\u001B[0;31mValueError\u001B[0m                                Traceback (most recent call last)",
      "Cell \u001B[0;32mIn[53], line 2\u001B[0m\n\u001B[1;32m      1\u001B[0m \u001B[38;5;66;03m# fails\u001B[39;00m\n\u001B[0;32m----> 2\u001B[0m \u001B[43mHullWhite\u001B[49m\u001B[38;5;241;43m.\u001B[39;49m\u001B[43mGlobal\u001B[49m\u001B[43m(\u001B[49m\u001B[43m[\u001B[49m\u001B[43mdomestic\u001B[49m\u001B[43m]\u001B[49m\u001B[43m \u001B[49m\u001B[38;5;241;43m+\u001B[39;49m\u001B[43m \u001B[49m\u001B[38;5;241;43m2\u001B[39;49m\u001B[38;5;241;43m*\u001B[39;49m\u001B[43m \u001B[49m\u001B[43mfactors\u001B[49m\u001B[43m,\u001B[49m\u001B[43m \u001B[49m\u001B[43mcorr\u001B[49m\u001B[43m)\u001B[49m\n",
      "File \u001B[0;32m~/Dropbox/Apps/github/sonntagsgesicht/pace/yieldcurves/yieldcurves/models/hullwhite.py:417\u001B[0m, in \u001B[0;36m__init__\u001B[0;34m(self, factors, correlation)\u001B[0m\n\u001B[1;32m    415\u001B[0m \u001B[38;5;66;03m# prep to make parameters optional with defaults\u001B[39;00m\n\u001B[1;32m    416\u001B[0m mean_reversion \u001B[38;5;241m=\u001B[39m \u001B[38;5;28mdict\u001B[39m(\u001B[38;5;28mzip\u001B[39m(\u001B[38;5;28mrange\u001B[39m(\u001B[38;5;28mlen\u001B[39m(mean_reversion)), mean_reversion))\n\u001B[0;32m--> 417\u001B[0m volatility \u001B[38;5;241m=\u001B[39m \u001B[38;5;28mdict\u001B[39m(\u001B[38;5;28mzip\u001B[39m(\u001B[38;5;28mrange\u001B[39m(\u001B[38;5;28mlen\u001B[39m(volatility)), volatility))\n\u001B[1;32m    418\u001B[0m fx_volatility \u001B[38;5;241m=\u001B[39m \u001B[38;5;28mdict\u001B[39m(\u001B[38;5;28mzip\u001B[39m(\u001B[38;5;28mrange\u001B[39m(\u001B[38;5;28mlen\u001B[39m(fx_volatility)), fx_volatility))\n\u001B[1;32m    419\u001B[0m fx \u001B[38;5;241m=\u001B[39m fx \u001B[38;5;28;01mif\u001B[39;00m fx \u001B[38;5;129;01mis\u001B[39;00m \u001B[38;5;28;01mNone\u001B[39;00m \u001B[38;5;28;01melse\u001B[39;00m \u001B[38;5;28mdict\u001B[39m(\u001B[38;5;28mzip\u001B[39m(\u001B[38;5;28mrange\u001B[39m(\u001B[38;5;28mlen\u001B[39m(fx)), fx))\n",
      "\u001B[0;31mValueError\u001B[0m: correlation of wrong size 5 expected size 8"
     ]
    }
   ],
   "source": [
    "# fails\n",
    "HullWhite.Global([domestic] + 2* factors, corr)"
   ],
   "metadata": {
    "collapsed": false,
    "ExecuteTime": {
     "end_time": "2024-08-16T16:23:09.091500Z",
     "start_time": "2024-08-16T16:23:09.067328Z"
    }
   }
  },
  {
   "cell_type": "code",
   "execution_count": 55,
   "outputs": [
    {
     "data": {
      "text/plain": "{1.0: -0.048202877025125865, 2.0: -0.04077069919990645}"
     },
     "metadata": {},
     "output_type": "display_data"
    },
    {
     "data": {
      "text/plain": "{1.0: 7.557708070632385e-05, 2.0: 0.029761169186679624}"
     },
     "metadata": {},
     "output_type": "display_data"
    },
    {
     "data": {
      "text/plain": "{1.0: -0.051564265537333384, 2.0: -0.10434215161866081}"
     },
     "metadata": {},
     "output_type": "display_data"
    },
    {
     "data": {
      "text/plain": "{1.0: 0.029738003628753392, 2.0: 0.0590055590704071}"
     },
     "metadata": {},
     "output_type": "display_data"
    },
    {
     "data": {
      "text/plain": "{1.0: -0.10910373818017309, 2.0: -0.14591426321997517}"
     },
     "metadata": {},
     "output_type": "display_data"
    }
   ],
   "source": [
    "g.evolve(1.)\n",
    "for f in g.factors:\n",
    "    display(dict(f.items()))"
   ],
   "metadata": {
    "collapsed": false,
    "ExecuteTime": {
     "end_time": "2024-08-16T16:23:15.059761Z",
     "start_time": "2024-08-16T16:23:14.991529Z"
    }
   }
  },
  {
   "cell_type": "code",
   "execution_count": 56,
   "outputs": [
    {
     "data": {
      "text/plain": "{}"
     },
     "metadata": {},
     "output_type": "display_data"
    },
    {
     "data": {
      "text/plain": "{}"
     },
     "metadata": {},
     "output_type": "display_data"
    },
    {
     "data": {
      "text/plain": "{}"
     },
     "metadata": {},
     "output_type": "display_data"
    },
    {
     "data": {
      "text/plain": "{}"
     },
     "metadata": {},
     "output_type": "display_data"
    },
    {
     "data": {
      "text/plain": "{}"
     },
     "metadata": {},
     "output_type": "display_data"
    }
   ],
   "source": [
    "g.clear()\n",
    "for f in g.factors:\n",
    "    display(dict(f.items()))"
   ],
   "metadata": {
    "collapsed": false,
    "ExecuteTime": {
     "end_time": "2024-08-16T16:23:17.469795Z",
     "start_time": "2024-08-16T16:23:17.399265Z"
    }
   }
  },
  {
   "cell_type": "code",
   "execution_count": 57,
   "outputs": [],
   "source": [
    "domestic = HullWhite(0.1, 0.04).curve(0.001)\n",
    "h = HullWhite.Global.from_parameters(rate_curve, fx=fx_spot, mean_reversion=mean_reversion, volatility=volatility, terminal_date=10., domestic=domestic, fx_volatility=fx_volatility, correlation=corr)"
   ],
   "metadata": {
    "collapsed": false,
    "ExecuteTime": {
     "end_time": "2024-08-16T16:23:20.465111Z",
     "start_time": "2024-08-16T16:23:20.444963Z"
    }
   }
  },
  {
   "cell_type": "code",
   "execution_count": 63,
   "outputs": [
    {
     "data": {
      "text/plain": "{0.25: -0.002897153944267994,\n 0.5: 0.0027067366924283364,\n 0.75: -0.029253603145671877,\n 1.0: -0.056753885995787214,\n 1.25: -0.045600230236564544,\n 1.5: -0.03583115290336188}"
     },
     "metadata": {},
     "output_type": "display_data"
    },
    {
     "data": {
      "text/plain": "{0.25: 0.00822850321955753,\n 0.5: 0.019763115313283404,\n 0.75: -0.0062152988595186275,\n 1.0: -0.020970929832807354,\n 1.25: -0.02311150472298121,\n 1.5: -0.02797971738831065}"
     },
     "metadata": {},
     "output_type": "display_data"
    },
    {
     "data": {
      "text/plain": "{0.25: 0.013510173842585554,\n 0.5: 0.032708854110190706,\n 0.75: -0.044109547738164466,\n 1.0: -0.024442762173454733,\n 1.25: -0.027555176085646352,\n 1.5: -0.041878395809740114}"
     },
     "metadata": {},
     "output_type": "display_data"
    },
    {
     "data": {
      "text/plain": "{0.25: 0.03163189032768787,\n 0.5: 0.06598034392869835,\n 0.75: 0.026885713463399803,\n 1.0: 0.05986584234013502,\n 1.25: -0.008360549363883895,\n 1.5: -0.04625367651352249}"
     },
     "metadata": {},
     "output_type": "display_data"
    },
    {
     "data": {
      "text/plain": "{0.25: 0.012333980153919986,\n 0.5: 0.0399540663964371,\n 0.75: -0.015031785436183895,\n 1.0: -0.0700746562453503,\n 1.25: -0.058003353777825895,\n 1.5: -0.07363270150529956}"
     },
     "metadata": {},
     "output_type": "display_data"
    }
   ],
   "source": [
    "h.evolve()\n",
    "for f in h.factors:\n",
    "    display(dict(f.items()))"
   ],
   "metadata": {
    "collapsed": false,
    "ExecuteTime": {
     "end_time": "2024-08-16T16:25:31.196190Z",
     "start_time": "2024-08-16T16:25:31.122275Z"
    }
   }
  },
  {
   "cell_type": "markdown",
   "source": [
    "# Random"
   ],
   "metadata": {
    "collapsed": false
   }
  },
  {
   "cell_type": "code",
   "execution_count": 30,
   "outputs": [
    {
     "data": {
      "text/plain": "Matrix([\n[1,                         0,                                          0],\n[a,            sqrt(1 - a**2),                                          0],\n[b, (-a*b + c)/sqrt(1 - a**2), sqrt(-b**2 + 1 - (-a*b + c)**2/(1 - a**2))]])",
      "text/latex": "$\\displaystyle \\left[\\begin{matrix}1 & 0 & 0\\\\a & \\sqrt{1 - a^{2}} & 0\\\\b & \\frac{- a b + c}{\\sqrt{1 - a^{2}}} & \\sqrt{- b^{2} + 1 - \\frac{\\left(- a b + c\\right)^{2}}{1 - a^{2}}}\\end{matrix}\\right]$"
     },
     "execution_count": 30,
     "metadata": {},
     "output_type": "execute_result"
    }
   ],
   "source": [
    "from sympy import Matrix, sqrt\n",
    "from sympy.abc import a, b, c\n",
    "C = Matrix([[1, a, b], [a, 1, c], [b, c, 1]])\n",
    "C.cholesky(hermitian=False)"
   ],
   "metadata": {
    "collapsed": false,
    "ExecuteTime": {
     "end_time": "2024-08-21T07:53:44.617759Z",
     "start_time": "2024-08-21T07:53:44.494414Z"
    }
   }
  },
  {
   "cell_type": "code",
   "execution_count": 25,
   "outputs": [],
   "source": [
    "from scipy.linalg import cholesky\n",
    "from math import sqrt"
   ],
   "metadata": {
    "collapsed": false,
    "ExecuteTime": {
     "end_time": "2024-08-21T07:49:51.902647Z",
     "start_time": "2024-08-21T07:49:51.824318Z"
    }
   }
  },
  {
   "cell_type": "code",
   "execution_count": 32,
   "outputs": [
    {
     "data": {
      "text/plain": "Matrix([\n[1,                         0,                                          0],\n[a,            sqrt(1 - a**2),                                          0],\n[b, (-a*b + c)/sqrt(1 - a**2), sqrt(-b**2 + 1 - (-a*b + c)**2/(1 - a**2))]])",
      "text/latex": "$\\displaystyle \\left[\\begin{matrix}1 & 0 & 0\\\\a & \\sqrt{1 - a^{2}} & 0\\\\b & \\frac{- a b + c}{\\sqrt{1 - a^{2}}} & \\sqrt{- b^{2} + 1 - \\frac{\\left(- a b + c\\right)^{2}}{1 - a^{2}}}\\end{matrix}\\right]$"
     },
     "execution_count": 32,
     "metadata": {},
     "output_type": "execute_result"
    }
   ],
   "source": [
    "d = sqrt(1 - a**2)\n",
    "e = (c - a * b) / d if d else 0\n",
    "f = sqrt(1 - b**2 - e**2)\n",
    "c1 = 1, 0, 0\n",
    "c2 = a, d, 0\n",
    "c3 = b, e, f\n",
    "Matrix([c1, c2, c3])\n",
    "q = 1,1,1\n",
    "x = q[0]\n",
    "y = a * q[0] + d * q[1]\n",
    "z = b * q[0] + e * q[1] + f * q[2]\n",
    "\n",
    "q[0] = x\n",
    "if d:\n",
    "    q[1] = (y - a * y[0]) / d\n",
    "else:\n",
    "    q[1] = q[0]\n",
    "if f:\n",
    "    q[2] = (z - b * q[0] - e * q[1]) / f\n",
    "else:\n",
    "    q[2] = 0\n",
    "    q[1] = (y - a * y[0]) / d\n",
    "if b == 1:\n",
    "    q[2] = q[0]\n",
    "elif f == 0:  # aka c = sqrt(1-b**2) * sqrt(1-a**2) + ab\n",
    "    q[1] = (z - b * y[0]) / e\n",
    "else:\n"
   ],
   "metadata": {
    "collapsed": false,
    "ExecuteTime": {
     "end_time": "2024-08-21T07:53:51.709305Z",
     "start_time": "2024-08-21T07:53:51.615809Z"
    }
   }
  },
  {
   "cell_type": "code",
   "execution_count": 0,
   "outputs": [],
   "source": [
    "b**2 + (c - ab)**2 / (1 - a**2) = 1\n",
    "(c-ab)**2 = (1-b**2) * (1-a**2) = 1 - b**2 - a**2 + ab**2\n",
    "c - ab = sqrt(1-b**2) * sqrt(1-a**2)\n",
    "c = sqrt(1-b**2) * sqrt(1-a**2) + ab"
   ],
   "metadata": {
    "collapsed": false
   }
  },
  {
   "cell_type": "code",
   "execution_count": 24,
   "outputs": [
    {
     "data": {
      "text/plain": "array([[ 1.        ,  0.4       ,  0.3       ],\n       [ 0.        ,  0.91651514, -0.02182179],\n       [ 0.        ,  0.        ,  0.95368958]])"
     },
     "metadata": {},
     "output_type": "display_data"
    },
    {
     "data": {
      "text/plain": "Matrix([\n[1,               0.4, 0.3],\n[0, 0.916515138991168,   0],\n[0,                 0,   0]])",
      "text/latex": "$\\displaystyle \\left[\\begin{matrix}1 & 0.4 & 0.3\\\\0 & 0.916515138991168 & 0\\\\0 & 0 & 0\\end{matrix}\\right]$"
     },
     "metadata": {},
     "output_type": "display_data"
    }
   ],
   "source": [
    "\n",
    "\n",
    "a, b, c = 0.4, 0.3, 0.1\n",
    "display(cholesky([[1, a, b], [a, 1, c], [b, c, 1]]))\n",
    "c1 = 1, 0, 0\n",
    "c2 = a, sqrt(1 - a**2), 0\n",
    "c3 = b, 0 ,0\n",
    "display(Matrix([c1, c2, c3]).T)"
   ],
   "metadata": {
    "collapsed": false,
    "ExecuteTime": {
     "end_time": "2024-08-21T07:49:23.960564Z",
     "start_time": "2024-08-21T07:49:23.848467Z"
    }
   }
  },
  {
   "cell_type": "code",
   "execution_count": 0,
   "outputs": [],
   "source": [
    "a, b = HullWhite.random.gauss(0., 1.), HullWhite.random.gauss(0., 1.)"
   ],
   "metadata": {
    "collapsed": false
   }
  },
  {
   "cell_type": "code",
   "execution_count": 35,
   "outputs": [
    {
     "data": {
      "text/plain": "([0, 1, 3, 5, 7, 2, 4, 6, 8], 9, 9)"
     },
     "execution_count": 35,
     "metadata": {},
     "output_type": "execute_result"
    }
   ],
   "source": [
    "dim = 5\n",
    "s = [0] + [i * 2 + 1 for i in range(dim - 1)] + [j * 2 + 2 for j in range(dim - 1)]\n",
    "s, len(s), dim + dim - 1"
   ],
   "metadata": {
    "collapsed": false,
    "ExecuteTime": {
     "end_time": "2024-08-21T12:12:20.777538Z",
     "start_time": "2024-08-21T12:12:20.670080Z"
    }
   }
  },
  {
   "cell_type": "markdown",
   "source": [
    "# Golbal 2"
   ],
   "metadata": {
    "collapsed": false
   }
  },
  {
   "cell_type": "code",
   "execution_count": 54,
   "outputs": [],
   "source": [
    "from yieldcurves.models import HullWhite\n",
    "\n",
    "rate_corr = [[1.0, 0.6], [0.6, 1.0]]\n",
    "fx_corr = [[1.0]]\n",
    "rate_fx_corr = [[0.22], [0.33]]\n",
    "corr = HullWhite.Global.foreign_correlation(rate_corr, fx_corr, rate_fx_corr)\n",
    "\n",
    "domestic = HullWhite(0.1, 0.05).curve(0.02)\n",
    "foreign =  HullWhite(0.2, 0.02, domestic=domestic, fx_volatility=0.2).curve(0.05)\n",
    "fx = foreign.model.fx(2.2)\n",
    "\n",
    "g = HullWhite.Global([domestic, foreign, fx], correlation=corr)"
   ],
   "metadata": {
    "collapsed": false,
    "ExecuteTime": {
     "end_time": "2024-08-21T13:48:21.247935Z",
     "start_time": "2024-08-21T13:48:21.072539Z"
    }
   }
  },
  {
   "cell_type": "code",
   "execution_count": 55,
   "outputs": [
    {
     "data": {
      "text/plain": "True"
     },
     "execution_count": 55,
     "metadata": {},
     "output_type": "execute_result"
    }
   ],
   "source": [
    "foreign.model.domestic.model == domestic.model"
   ],
   "metadata": {
    "collapsed": false,
    "ExecuteTime": {
     "end_time": "2024-08-21T13:48:23.710182Z",
     "start_time": "2024-08-21T13:48:23.643809Z"
    }
   }
  }
 ],
 "metadata": {
  "kernelspec": {
   "display_name": "Python 3",
   "language": "python",
   "name": "python3"
  },
  "language_info": {
   "codemirror_mode": {
    "name": "ipython",
    "version": 2
   },
   "file_extension": ".py",
   "mimetype": "text/x-python",
   "name": "python",
   "nbconvert_exporter": "python",
   "pygments_lexer": "ipython2",
   "version": "2.7.6"
  }
 },
 "nbformat": 4,
 "nbformat_minor": 0
}
